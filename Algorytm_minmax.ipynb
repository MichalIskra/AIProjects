{
  "nbformat": 4,
  "nbformat_minor": 0,
  "metadata": {
    "colab": {
      "name": "WSI_ćw3.ipynb",
      "provenance": [],
      "collapsed_sections": []
    },
    "kernelspec": {
      "name": "python3",
      "display_name": "Python 3"
    },
    "language_info": {
      "name": "python"
    }
  },
  "cells": [
    {
      "cell_type": "markdown",
      "metadata": {
        "id": "Qqn-M2HzOD8T"
      },
      "source": [
        "Celem zadania była implementacja algorytmu min-max, bez obcinania alfa-beta."
      ]
    },
    {
      "cell_type": "code",
      "metadata": {
        "id": "_ntAcZ6e_pHu"
      },
      "source": [
        "import numpy as np\n",
        "from sys import maxsize\n",
        "#author Michał Iskra"
      ],
      "execution_count": null,
      "outputs": []
    },
    {
      "cell_type": "code",
      "metadata": {
        "colab": {
          "base_uri": "https://localhost:8080/"
        },
        "id": "mqDGEzMWGAMS",
        "outputId": "a8e367a8-1e40-4d2f-923a-16f91553b270"
      },
      "source": [
        "class Nodes: #class which contains tree of game states starting from actual and having depth levels\n",
        "  def __init__(self, np_board, player, depth, heuristic_func):\n",
        "    self.board = np_board   \n",
        "    self.player = player\n",
        "    self.depth = depth\n",
        "    self.score = heuristic_func(self.board)\n",
        "    self.children = []\n",
        "    self.nodes_generator()\n",
        "    \n",
        "\n",
        "  def nodes_generator(self): #method to create all possible children nodes from actual node according to game rules\n",
        "    if self.depth>=0:\n",
        "      for cell in np.nditer(self.board, op_flags=['readwrite']):\n",
        "        if cell[...] == 0:\n",
        "          cell[...] = self.player\n",
        "          childboard = self.board.copy()\n",
        "          self.children.append(Nodes(childboard, -self.player, self.depth-1, heuristic_func))\n",
        "          cell[...] = 0    \n",
        "        \n",
        "  def getBoard(self):\n",
        "    return self.board\n",
        "  def getChildren(self):\n",
        "    return self.children \n",
        "  def getScore(self):\n",
        "    return self.score \n",
        "\n",
        "\n",
        "def isWinner(board):\n",
        "  for row in board:                            #checking rows and columns for winner\n",
        "    if (len(set(row)) == 1) and (row[0] != 0):\n",
        "      return True ,maxsize*row[0]              #returning maxsize with player sign\n",
        "  for row in np.transpose(board):\n",
        "    if (len(set(row)) == 1) and (row[0] != 0):\n",
        "      return True, maxsize*row[0]\n",
        "\n",
        "  if (len(set([board[i][i] for i in range(len(board))])) == 1) and (board[0][0] != 0):            #checking diagonals\n",
        "      return True, maxsize*board[0][0]                                                           #returning maxsize with player sign\n",
        "  if (len(set([board[i][len(board)-i-1] for i in range(len(board))])) == 1) and (board[0][0] != 0): \n",
        "      return True, maxsize*board[0][len(board)-1]     \n",
        "\n",
        "  return False, 0\n",
        "  \n",
        "\n",
        "def heuristic_func(board): #function to evaluate score of board state\n",
        "  winner, value = isWinner(board) #if there is winning position\n",
        "  if winner:\n",
        "    return value\n",
        "  points = np.array([[3,2,3],[2,4,2],[3,2,3]])\n",
        "  return np.sum(board*points)\n",
        "\n",
        "\n",
        "\n",
        "def minmax(node, player, depth, heuristic_func):\n",
        "\n",
        "\n",
        "  if (node.depth == 0) or (abs(node.getScore())==maxsize): #when it reaches the limit of depth or there occurs final state of game it returns board and the score of the board\n",
        "\n",
        "    return node.getBoard().copy(), node.getScore().copy()\n",
        "\n",
        "  board_out = np.array([[0,0,0],[0,0,0],[0,0,0]])  #mutable just for assign purpose\n",
        "\n",
        "  if node.player == -1: #we are estimating best score for player -1\n",
        "    best_score = maxsize #the maximum\n",
        "    for child in node.getChildren():\n",
        "      if child.getScore() <= best_score: #for player -1 we are looking for minimum value\n",
        "        best_board, best_score =  minmax(child, -player, depth-1, heuristic_func)\n",
        "        board_out = child.getBoard()\n",
        "  else:\n",
        "    best_score = -maxsize #the minimum\n",
        "    for child in node.getChildren():\n",
        "      if child.getScore() >= best_score: #for player 1 we are looking for maximum value\n",
        "        best_board, best_score =  minmax(child, -player, depth-1, heuristic_func)\n",
        "        board_out = child.getBoard()\n",
        "  \n",
        "  return board_out, best_score #it returns the best board scenario for player, and the evaluated best score in depth moves according to minmax algorithm\n",
        "    \n",
        "  \n",
        "  \n",
        "actualboard = np.array([[1,0,1],[0,-1,0],[0,0,0]]) #creating tic tac toe board, where -1 is player1, 1 is player2, 0 is empty space\n",
        "print(\"INPUT board:\\n{}\".format(actualboard))\n",
        "tree = Nodes(actualboard,-1,3,heuristic_func)\n",
        "board, score = minmax(tree, -1, 3, heuristic_func)\n",
        "print(\"OUTPUT board:\\n{}\".format(board))\n",
        "\n",
        "print(\"\\n\\n\")\n",
        "\n",
        "actualboard = np.array([[1,0,-1],[0,-1,0],[1,0,0]]) #creating tic tac toe board, where -1 is player1, 1 is player2, 0 is empty space\n",
        "print(\"INPUT board:\\n{}\".format(actualboard))\n",
        "tree = Nodes(actualboard,-1,4,heuristic_func)\n",
        "board, score = minmax(tree, -1, 4, heuristic_func)\n",
        "print(\"OUTPUT board:\\n{}\".format(board))"
      ],
      "execution_count": null,
      "outputs": [
        {
          "output_type": "stream",
          "text": [
            "INPUT board:\n",
            "[[ 1  0  1]\n",
            " [ 0 -1  0]\n",
            " [ 0  0  0]]\n",
            "OUTPUT board:\n",
            "[[ 1 -1  1]\n",
            " [ 0 -1  0]\n",
            " [ 0  0  0]]\n",
            "\n",
            "\n",
            "\n",
            "INPUT board:\n",
            "[[ 1  0 -1]\n",
            " [ 0 -1  0]\n",
            " [ 1  0  0]]\n",
            "OUTPUT board:\n",
            "[[ 1  0 -1]\n",
            " [-1 -1  0]\n",
            " [ 1  0  0]]\n"
          ],
          "name": "stdout"
        }
      ]
    }
  ]
}